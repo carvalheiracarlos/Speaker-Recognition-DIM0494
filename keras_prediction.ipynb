{
 "cells": [
  {
   "cell_type": "code",
   "execution_count": null,
   "id": "d18292c7",
   "metadata": {},
   "outputs": [],
   "source": [
    "import pandas as pd\n",
    "import tensorflow as tf\n",
    "from keras.layers import (\n",
    "    Input, Dense, Conv2D, \n",
    "    BatchNormalization, MaxPooling2D, Dropout, \n",
    "    Flatten, Resizing, Input, BatchNormalization\n",
    ")"
   ]
  },
  {
   "cell_type": "code",
   "execution_count": null,
   "id": "0c52d3f7",
   "metadata": {},
   "outputs": [],
   "source": [
    "test_csv = './data/test.csv'\n",
    "sample_sub_csv = './data/sample_submission.csv'\n",
    "weights ='./callbacks/checkpoints/speaker_conv2d_weights.h5'"
   ]
  },
  {
   "cell_type": "code",
   "execution_count": null,
   "id": "fbf42062",
   "metadata": {},
   "outputs": [],
   "source": [
    "test = pd.read_csv(test_csv)\n",
    "sample_sub = pd.read_csv(sample_sub_csv)"
   ]
  },
  {
   "cell_type": "code",
   "execution_count": null,
   "id": "cdeea6b1",
   "metadata": {},
   "outputs": [],
   "source": [
    "def squeeze(audio):\n",
    "    audio = tf.squeeze(audio, axis=-1)\n",
    "    return audio\n",
    "    \n",
    "def get_spectrogram(waveform):\n",
    "    spectrogram = tf.signal.stft(waveform, frame_length=255, frame_step=128)\n",
    "    spectrogram = tf.abs(spectrogram)\n",
    "    spectrogram = spectrogram[..., tf.newaxis]\n",
    "    return spectrogram"
   ]
  },
  {
   "cell_type": "code",
   "execution_count": null,
   "id": "5c1ea550",
   "metadata": {
    "scrolled": false
   },
   "outputs": [],
   "source": [
    "data = []\n",
    "for wav_location in test.file_path:\n",
    "    raw_audio = tf.io.read_file(f'./data/{wav_location}')\n",
    "    wave, sr = tf.audio.decode_wav(raw_audio, desired_channels=-1, desired_samples=16000, name=None)\n",
    "    data.append(wave)\n",
    "    "
   ]
  },
  {
   "cell_type": "code",
   "execution_count": null,
   "id": "624d4c31",
   "metadata": {},
   "outputs": [],
   "source": [
    "test = tf.data.Dataset.from_tensor_slices(data)\n",
    "test = test.map(squeeze, tf.data.AUTOTUNE)\n",
    "test = test.map(get_spectrogram, tf.data.AUTOTUNE)\n",
    "\n",
    "test.take(1)"
   ]
  },
  {
   "cell_type": "code",
   "execution_count": null,
   "id": "128cc1a6",
   "metadata": {},
   "outputs": [],
   "source": [
    "class SpeakerConv2D:\n",
    "  @staticmethod\n",
    "  def build(input_shape,\n",
    "            n_labels,\n",
    "            activation='relu', \n",
    "            weights_path=None):\n",
    "    \n",
    "    model = tf.keras.models.Sequential()\n",
    "    \n",
    "    model.add(Input(shape=input_shape))\n",
    "    model.add(Resizing(64, 69)) \n",
    "\n",
    "    model.add(Conv2D(64, kernel_size=(8,8), strides=(2,2), activation='relu')) \n",
    "    model.add(MaxPooling2D())\n",
    "    model.add(BatchNormalization())\n",
    "    model.add(Dropout(0.5))\n",
    "    model.add(Conv2D(128, kernel_size=(4,4), strides=(2, 2), activation='relu')) \n",
    "    model.add(MaxPooling2D())\n",
    "    model.add(BatchNormalization())\n",
    "    model.add(Dropout(0.5))\n",
    "\n",
    "    model.add(Flatten())\n",
    "\n",
    "    model.add(Dense(128, activation='relu'))\n",
    "    model.add(Dense(n_labels, activation='softmax'))\n",
    "\n",
    "    # if a weights path is supplied (inicating that the model was\n",
    "    # pre-trained), then load the weights\n",
    "    if weights_path is not None:\n",
    "      model.load_weights(weights_path)\n",
    "    \n",
    "    return model"
   ]
  },
  {
   "cell_type": "code",
   "execution_count": null,
   "id": "14041616",
   "metadata": {},
   "outputs": [],
   "source": [
    "test_model = SpeakerConv2D.build((124, 129, 1), 90, activation='relu', weights_path=weights)\n",
    "\n",
    "pred = test_model.predict(test.cache().prefetch(tf.data.AUTOTUNE), verbose=1)"
   ]
  },
  {
   "cell_type": "code",
   "execution_count": null,
   "id": "20f8c727",
   "metadata": {},
   "outputs": [],
   "source": []
  }
 ],
 "metadata": {
  "kernelspec": {
   "display_name": "Python 3 (ipykernel)",
   "language": "python",
   "name": "python3"
  },
  "language_info": {
   "codemirror_mode": {
    "name": "ipython",
    "version": 3
   },
   "file_extension": ".py",
   "mimetype": "text/x-python",
   "name": "python",
   "nbconvert_exporter": "python",
   "pygments_lexer": "ipython3",
   "version": "3.9.15"
  }
 },
 "nbformat": 4,
 "nbformat_minor": 5
}
